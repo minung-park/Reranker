{
 "cells": [
  {
   "cell_type": "code",
   "execution_count": 1,
   "id": "840a3f7b",
   "metadata": {},
   "outputs": [],
   "source": [
    "import os\n",
    "import sys\n",
    "\n",
    "uppath = lambda _path, n: os.sep.join(_path.split(os.sep)[:-n])\n",
    "\n",
    "cur_path = os.path.dirname(os.path.abspath(\"__file__\"))\n",
    "module_path = uppath(cur_path, 1)  # root_path\n",
    "if module_path not in sys.path:\n",
    "    sys.path.append(module_path)"
   ]
  },
  {
   "cell_type": "code",
   "execution_count": 4,
   "id": "b51f0703",
   "metadata": {},
   "outputs": [],
   "source": [
    "dev_file = os.path.join(module_path, 'DATA/marco/dev.d100.tsv')"
   ]
  },
  {
   "cell_type": "code",
   "execution_count": 5,
   "id": "47f7bc26",
   "metadata": {},
   "outputs": [],
   "source": [
    "with open(dev_file, 'r') as fr:\n",
    "    total = fr.read()"
   ]
  },
  {
   "cell_type": "code",
   "execution_count": 10,
   "id": "4248801a",
   "metadata": {},
   "outputs": [],
   "source": [
    "total_line = total.split('\\n')"
   ]
  },
  {
   "cell_type": "code",
   "execution_count": 11,
   "id": "067c331f",
   "metadata": {},
   "outputs": [
    {
     "data": {
      "text/plain": [
       "519301"
      ]
     },
     "execution_count": 11,
     "metadata": {},
     "output_type": "execute_result"
    }
   ],
   "source": [
    "len(total_line)"
   ]
  },
  {
   "cell_type": "code",
   "execution_count": 16,
   "id": "c6a50570",
   "metadata": {},
   "outputs": [],
   "source": [
    "re_p_file = os.path.join(module_path, 'DATA/marco/dev.minung.tsv')\n",
    "\n",
    "with open(re_p_file, 'w') as wr:\n",
    "    for i, t in enumerate(total_line):\n",
    "        if i >= 10000:\n",
    "            break\n",
    "        wr.write(t)\n",
    "        wr.write('\\n')"
   ]
  },
  {
   "cell_type": "code",
   "execution_count": null,
   "id": "8f0bd3ae",
   "metadata": {},
   "outputs": [],
   "source": []
  }
 ],
 "metadata": {
  "kernelspec": {
   "display_name": "Python 3",
   "language": "python",
   "name": "python3"
  },
  "language_info": {
   "codemirror_mode": {
    "name": "ipython",
    "version": 3
   },
   "file_extension": ".py",
   "mimetype": "text/x-python",
   "name": "python",
   "nbconvert_exporter": "python",
   "pygments_lexer": "ipython3",
   "version": "3.8.5"
  }
 },
 "nbformat": 4,
 "nbformat_minor": 5
}
